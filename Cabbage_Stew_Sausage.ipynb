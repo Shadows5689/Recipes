{
  "metadata": {
    "kernelspec": {
      "name": "xpython",
      "display_name": "Python 3.13 (XPython)",
      "language": "python"
    },
    "language_info": {
      "file_extension": ".py",
      "mimetype": "text/x-python",
      "name": "python",
      "version": "3.13.1"
    }
  },
  "nbformat_minor": 5,
  "nbformat": 4,
  "cells": [
    {
      "id": "8d8b0e9d-5195-40bd-876c-cf269ec2150f",
      "cell_type": "markdown",
      "source": "## Recipes",
      "metadata": {}
    },
    {
      "id": "41dc1c35-cbd9-4d68-a903-f363e6bd411b",
      "cell_type": "markdown",
      "source": "# Cabbage Stew \n# (with Sausage)",
      "metadata": {}
    },
    {
      "id": "1fdc6661-94c0-4203-9ad2-f1e5ec914293",
      "cell_type": "code",
      "source": "# Ingredients\n\n'''\n- 2 Tbsp. of canola oil\n- 1 lb. sausage\n- 1/2 of a yellow onion (cut or chopped)\n- 2-3 large carrots, peeled and chopped\n- 1 whole head of green or savoy cabbage, chopped\n- 2-3 cloves garlic, chopped or diced\n- 6 cups of chicken broth\n- 2 large russet potatoes, peeled and chopped\n- 2 Tbsp. of red wine vinegar\n- 2 Tbsp. chopped dill\n- kosher salt and fresh ground black pepper (McCormick™ Brand works best)\n- crusty bread for serving (to preference)\n\n'''",
      "metadata": {
        "trusted": true
      },
      "outputs": [
        {
          "execution_count": 1,
          "output_type": "execute_result",
          "data": {
            "text/plain": "'\\n- 2 Tbsp. of canola oil\\n- 1 lb. sausage\\n- 1/2 of a yellow onion (cut or chopped)\\n- 2-3 large carrots, peeled and chopped\\n- 1 whole head of green or savoy cabbage, chopped\\n- 2-3 cloves garlic, chopped or diced\\n- 6 cups of chicken broth\\n- 2 large russet potatoes, peeled and chopped\\n- 2 Tbsp. of red wine vinegar\\n- 2 Tbsp. chopped dill\\n- kosher salt and fresh ground black pepper (McCormick™ Brand works best)\\n- crusty bread for serving (to preference)\\n\\n'"
          },
          "metadata": {}
        }
      ],
      "execution_count": 1
    },
    {
      "id": "9f7ba12e-d052-465d-9293-116733e4ce7f",
      "cell_type": "code",
      "source": "# Steps\n'''\n1. Heat oil in a large pot of 3/4 water bring to boil. Cover pot.\n2. Cook the sausage in a separate pan while waiting on the stew to boil.\n3. Once boiling add in chopped onion, carrot, and cabbage to pot. \n    Reduce to simmer then recover pot\n4. Cook while occasionally stirring. \n    After 5-6 minutes or until vegetables are softened add in chopped garlic.\n5. Add remainder of liquid which is all parts chicken broth.\n6. Cook 1-2 minutes, then in potatoes and sausage (cooked)\n7. Bring to boil again, then reduce heat to simmer and cover. \n    Cook 17-21 minutes or until potatoes are cook through and soft.\n8. Remove large pot of stew from heat and let sit for 2-3 minutes,\n    then add in red wine vinegar and dill.\n9. Enjoy\n'''",
      "metadata": {
        "trusted": true
      },
      "outputs": [
        {
          "execution_count": 2,
          "output_type": "execute_result",
          "data": {
            "text/plain": "'\\n1. Heat oil in a large pot of 3/4 water bring to boil. Cover pot.\\n2. Cook the sausage in a separate pan while waiting on the stew to boil.\\n3. Once boiling add in chopped onion, carrot, and cabbage to pot. \\n    Reduce to simmer then recover pot\\n4. Cook while occasionally stirring. \\n    After 5-6 minutes or until vegetables are softened add in chopped garlic.\\n5. Add remainder of liquid which is all parts chicken broth.\\n6. Cook 1-2 minutes, then in potatoes and sausage (cooked)\\n7. Bring to boil again, then reduce heat to simmer and cover. \\n    Cook 17-21 minutes or until potatoes are cook through and soft.\\n8. Remove large pot of stew from heat and let sit for 2-3 minutes,\\n    then add in red wine vinegar and dill.\\n9. Enjoy\\n'"
          },
          "metadata": {}
        }
      ],
      "execution_count": 2
    }
  ]
}
